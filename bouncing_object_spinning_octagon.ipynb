{
 "cells": [
  {
   "cell_type": "markdown",
   "id": "3353f02e",
   "metadata": {},
   "source": [
    "# Import Required Libraries\n",
    "Import Pygame and other necessary libraries for graphics and game logic."
   ]
  },
  {
   "cell_type": "code",
   "execution_count": null,
   "id": "8df493fc",
   "metadata": {},
   "outputs": [],
   "source": [
    "# Import Required Libraries\n",
    "import pygame\n",
    "import math\n",
    "import os"
   ]
  },
  {
   "cell_type": "markdown",
   "id": "c8be47fe",
   "metadata": {},
   "source": [
    "# Define Octagon and Object Properties\n",
    "Define the properties of the spinning octagon (e.g., size, rotation speed) and the bouncing object (e.g., size, velocity)."
   ]
  },
  {
   "cell_type": "code",
   "execution_count": null,
   "id": "2c9a6682",
   "metadata": {},
   "outputs": [],
   "source": [
    "# Define Octagon and Object Properties\n",
    "OCTAGON_SIZE = 100\n",
    "OCTAGON_ROTATION_SPEED = 2  # degrees per frame\n",
    "OBJECT_SIZE = 20\n",
    "OBJECT_VELOCITY = [5, 3]  # [x_velocity, y_velocity]"
   ]
  },
  {
   "cell_type": "markdown",
   "id": "91728647",
   "metadata": {},
   "source": [
    "# Initialize Pygame Environment\n",
    "Set up the Pygame environment, including screen dimensions, frame rate, and colors."
   ]
  },
  {
   "cell_type": "code",
   "execution_count": null,
   "id": "a31ed787",
   "metadata": {},
   "outputs": [],
   "source": [
    "# Initialize Pygame Environment\n",
    "pygame.init()\n",
    "SCREEN_WIDTH, SCREEN_HEIGHT = 800, 600\n",
    "screen = pygame.display.set_mode((SCREEN_WIDTH, SCREEN_HEIGHT))\n",
    "pygame.display.set_caption(\"Bouncing Object in Spinning Octagon\")\n",
    "clock = pygame.time.Clock()\n",
    "FPS = 60\n",
    "WHITE = (255, 255, 255)\n",
    "BLACK = (0, 0, 0)"
   ]
  },
  {
   "cell_type": "markdown",
   "id": "4e340eda",
   "metadata": {},
   "source": [
    "# Create Spinning Octagon\n",
    "Write code to draw and rotate the octagon around its center."
   ]
  },
  {
   "cell_type": "code",
   "execution_count": null,
   "id": "4aaf4a25",
   "metadata": {},
   "outputs": [],
   "source": [
    "# Create Spinning Octagon\n",
    "def draw_octagon(surface, center, size, angle):\n",
    "    points = []\n",
    "    for i in range(8):\n",
    "        theta = math.radians(i * 45 + angle)\n",
    "        x = center[0] + size * math.cos(theta)\n",
    "        y = center[1] + size * math.sin(theta)\n",
    "        points.append((x, y))\n",
    "    pygame.draw.polygon(surface, WHITE, points, 2)"
   ]
  },
  {
   "cell_type": "markdown",
   "id": "760ccdd8",
   "metadata": {},
   "source": [
    "# Implement Bouncing Object Logic\n",
    "Write logic to make the object bounce off the edges of the spinning octagon."
   ]
  },
  {
   "cell_type": "code",
   "execution_count": null,
   "id": "7ec116d6",
   "metadata": {},
   "outputs": [],
   "source": [
    "# Implement Bouncing Object Logic\n",
    "def bounce_object(object_pos, object_velocity, bounds):\n",
    "    for i in range(2):  # Check x and y axes\n",
    "        if object_pos[i] - OBJECT_SIZE < bounds[i][0] or object_pos[i] + OBJECT_SIZE > bounds[i][1]:\n",
    "            object_velocity[i] = -object_velocity[i]\n",
    "    return object_velocity"
   ]
  },
  {
   "cell_type": "markdown",
   "id": "62599801",
   "metadata": {},
   "source": [
    "# Run the Game Loop\n",
    "Implement the main game loop to update the screen, handle events, and apply the bouncing and spinning logic."
   ]
  },
  {
   "cell_type": "code",
   "execution_count": null,
   "id": "be4c840f",
   "metadata": {},
   "outputs": [],
   "source": [
    "# Run the Game Loop\n",
    "running = True\n",
    "object_pos = [SCREEN_WIDTH // 2, SCREEN_HEIGHT // 2]\n",
    "octagon_angle = 0\n",
    "\n",
    "while running:\n",
    "    for event in pygame.event.get():\n",
    "        if event.type == pygame.QUIT:\n",
    "            running = False\n",
    "\n",
    "    screen.fill(BLACK)\n",
    "    octagon_angle = (octagon_angle + OCTAGON_ROTATION_SPEED) % 360\n",
    "    draw_octagon(screen, (SCREEN_WIDTH // 2, SCREEN_HEIGHT // 2), OCTAGON_SIZE, octagon_angle)\n",
    "\n",
    "    object_pos[0] += OBJECT_VELOCITY[0]\n",
    "    object_pos[1] += OBJECT_VELOCITY[1]\n",
    "    OBJECT_VELOCITY = bounce_object(object_pos, OBJECT_VELOCITY, [(0, SCREEN_WIDTH), (0, SCREEN_HEIGHT)])\n",
    "    pygame.draw.circle(screen, WHITE, (int(object_pos[0]), int(object_pos[1])), OBJECT_SIZE)\n",
    "\n",
    "    pygame.display.flip()\n",
    "    clock.tick(FPS)\n",
    "\n",
    "pygame.quit()"
   ]
  },
  {
   "cell_type": "markdown",
   "id": "7ac60796",
   "metadata": {},
   "source": [
    "# Save Script to text.games Folder\n",
    "Save the complete Python script to the text.games folder using Python's file I/O operations."
   ]
  },
  {
   "cell_type": "code",
   "execution_count": null,
   "id": "a53f6ff4",
   "metadata": {},
   "outputs": [],
   "source": [
    "# Save Script to text.games Folder\n",
    "script_content = \\\"\\\"\\\"import pygame\n",
    "import math\n",
    "\n",
    "# Define constants\n",
    "OCTAGON_SIZE = 100\n",
    "OCTAGON_ROTATION_SPEED = 2\n",
    "OBJECT_SIZE = 20\n",
    "OBJECT_VELOCITY = [5, 3]\n",
    "\n",
    "# Initialize Pygame\n",
    "pygame.init()\n",
    "SCREEN_WIDTH, SCREEN_HEIGHT = 800, 600\n",
    "screen = pygame.display.set_mode((SCREEN_WIDTH, SCREEN_HEIGHT))\n",
    "pygame.display.set_caption(\"Bouncing Object in Spinning Octagon\")\n",
    "clock = pygame.time.Clock()\n",
    "FPS = 60\n",
    "WHITE = (255, 255, 255)\n",
    "BLACK = (0, 0, 0)\n",
    "\n",
    "def draw_octagon(surface, center, size, angle):\n",
    "    points = []\n",
    "    for i in range(8):\n",
    "        theta = math.radians(i * 45 + angle)\n",
    "        x = center[0] + size * math.cos(theta)\n",
    "        y = center[1] + size * math.sin(theta)\n",
    "        points.append((x, y))\n",
    "    pygame.draw.polygon(surface, WHITE, points, 2)\n",
    "\n",
    "def bounce_object(object_pos, object_velocity, bounds):\n",
    "    for i in range(2):\n",
    "        if object_pos[i] - OBJECT_SIZE < bounds[i][0] or object_pos[i] + OBJECT_SIZE > bounds[i][1]:\n",
    "            object_velocity[i] = -object_velocity[i]\n",
    "    return object_velocity\n",
    "\n",
    "# Main game loop\n",
    "running = True\n",
    "object_pos = [SCREEN_WIDTH // 2, SCREEN_HEIGHT // 2]\n",
    "octagon_angle = 0\n",
    "\n",
    "while running:\n",
    "    for event in pygame.event.get():\n",
    "        if event.type == pygame.QUIT:\n",
    "            running = False\n",
    "\n",
    "    screen.fill(BLACK)\n",
    "    octagon_angle = (octagon_angle + OCTAGON_ROTATION_SPEED) % 360\n",
    "    draw_octagon(screen, (SCREEN_WIDTH // 2, SCREEN_HEIGHT // 2), OCTAGON_SIZE, octagon_angle)\n",
    "\n",
    "    object_pos[0] += OBJECT_VELOCITY[0]\n",
    "    object_pos[1] += OBJECT_VELOCITY[1]\n",
    "    OBJECT_VELOCITY = bounce_object(object_pos, OBJECT_VELOCITY, [(0, SCREEN_WIDTH), (0, SCREEN_HEIGHT)])\n",
    "    pygame.draw.circle(screen, WHITE, (int(object_pos[0]), int(object_pos[1])), OBJECT_SIZE)\n",
    "\n",
    "    pygame.display.flip()\n",
    "    clock.tick(FPS)\n",
    "\n",
    "pygame.quit()\n",
    "\\\"\\\"\\\"\n",
    "\n",
    "output_path = \"/home/me/betterstrap/text.games/bouncing_object_spinning_octagon.py\"\n",
    "os.makedirs(os.path.dirname(output_path), exist_ok=True)\n",
    "with open(output_path, \"w\") as file:\n",
    "    file.write(script_content)"
   ]
  }
 ],
 "metadata": {
  "language_info": {
   "name": "python"
  }
 },
 "nbformat": 4,
 "nbformat_minor": 5
}
